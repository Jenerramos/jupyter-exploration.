{
 "cells": [
  {
   "cell_type": "markdown",
   "id": "577fa238-fc53-4309-84ee-346e7c82af59",
   "metadata": {},
   "source": [
    "1. **Code Cells:** These cells are used for writing and executing code. we can write code in various programming languages such as Python, R, Julia, etc. When we run a code cell, the code inside it is executed, and the output (if any) is displayed directly below the cell.\n",
    "\n",
    "2. **Markdown Cells:** These cells are used for adding formatted text, images, links, equations, and other multimedia elements using Markdown syntax. Markdown is a lightweight markup language that allows you to easily style your text without using HTML or other complex formatting languages. Markdown cells are particularly useful for documenting your code, explaining concepts, or providing instructions within your notebook."
   ]
  },
  {
   "cell_type": "code",
   "execution_count": 6,
   "id": "6c71ba27-949e-4dac-9cc2-af3253429b56",
   "metadata": {},
   "outputs": [
    {
     "name": "stdout",
     "output_type": "stream",
     "text": [
      "Hello, world\n"
     ]
    }
   ],
   "source": [
    "txt = \"Hello, world\"\n",
    "print(txt)"
   ]
  },
  {
   "cell_type": "markdown",
   "id": "80951c86-9dd0-49e0-b20d-e82006ee01ae",
   "metadata": {},
   "source": [
    "My first markdown cell in Jupyter"
   ]
  },
  {
   "cell_type": "code",
   "execution_count": null,
   "id": "a9ee03eb-3c7c-424c-9305-b622fa6a4d80",
   "metadata": {},
   "outputs": [],
   "source": []
  }
 ],
 "metadata": {
  "kernelspec": {
   "display_name": "anaconda-panel-2023.05-py310",
   "language": "python",
   "name": "conda-env-anaconda-panel-2023.05-py310-py"
  },
  "language_info": {
   "codemirror_mode": {
    "name": "ipython",
    "version": 3
   },
   "file_extension": ".py",
   "mimetype": "text/x-python",
   "name": "python",
   "nbconvert_exporter": "python",
   "pygments_lexer": "ipython3",
   "version": "3.11.5"
  },
  "toc-autonumbering": true,
  "toc-showcode": false,
  "toc-showmarkdowntxt": false,
  "toc-showtags": true
 },
 "nbformat": 4,
 "nbformat_minor": 5
}
